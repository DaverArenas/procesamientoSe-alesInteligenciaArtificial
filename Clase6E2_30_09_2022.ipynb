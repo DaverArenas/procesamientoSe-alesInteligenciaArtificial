{
  "nbformat": 4,
  "nbformat_minor": 0,
  "metadata": {
    "colab": {
      "provenance": [],
      "collapsed_sections": [],
      "include_colab_link": true
    },
    "kernelspec": {
      "name": "python3",
      "display_name": "Python 3"
    },
    "language_info": {
      "name": "python"
    }
  },
  "cells": [
    {
      "cell_type": "markdown",
      "metadata": {
        "id": "view-in-github",
        "colab_type": "text"
      },
      "source": [
        "<a href=\"https://colab.research.google.com/github/DaverArenas/procesamientoSe-alesInteligenciaArtificial/blob/main/Clase6E2_30_09_2022.ipynb\" target=\"_parent\"><img src=\"https://colab.research.google.com/assets/colab-badge.svg\" alt=\"Open In Colab\"/></a>"
      ]
    },
    {
      "cell_type": "markdown",
      "source": [
        "# Análisis de componentes principales \n",
        "\n",
        "Es una técnica de reducción de dimensionalidad lineal que se puede utilizar para extraer información de un espacio de alta dimensión proyectándola en un subespacio de dimensión inferior. **Intenta preservar las partes esenciales que tienen más variación de los datos y eliminar las partes no esenciales con menos variación.**\n",
        "\n",
        "Esta eliminación de dimensionalidad se puede aprovechar para acelerar el tiempo de entrenamiento y prueba del algoritmos de ML.\n",
        "Los componentes principales son una línea recta y el primer componente principal tiene la mayor variación en los datos. Cada componente principal subsiguiente es ortogonal al último y tiene una variación menor.\n",
        "\n",
        "La razón por la que se obtienen componentes principales no correlacionados de las características originales es que las características correlacionadas contribuyen al mismo componente principal, reduciendo así las características de datos originales en componentes principales no correlacionados; cada uno representando un conjunto diferente de características correlacionadas con diferentes cantidades de variación.\n",
        "\n",
        "https://www.datacamp.com/community/tutorials/principal-component-analysis-in-python"
      ],
      "metadata": {
        "id": "jVz9Jl1AW2n6"
      }
    },
    {
      "cell_type": "markdown",
      "source": [
        "# Matriz de características \n",
        "\n",
        "Lo primero que debemos hacer para reducir la dimensionalidad de la señal, es obtener su matriz de características. \n",
        "\n",
        "Son de gran utilidad para reducir el numero de caracteristicas de las señales y generar la relaciones entre ellas. \n",
        "Para extraer las caracteristicas de la señal vamos a utilizar la librería \n",
        "\n",
        "```\n",
        "TSFEL - Time Series Feature Extraction\n",
        "```\n",
        "Las características que podemos extraer se pueden diferenciar entre características estadísticas, temporales y frecuenciales, como: \n",
        "- Energía \n",
        "- AUC (área bajo la curva)\n",
        "- Autocorrelación de la señal \n",
        "- Calculo de minímos, máximo, media, mediana, desviación estándar.\n",
        "- Media de los coeficientes FFT \n",
        "- La descomposición de las ondas wavelet\n",
        "- etc...\n",
        "https://tsfel.readthedocs.io/en/latest/descriptions/get_started.html\n"
      ],
      "metadata": {
        "id": "DobnQ8cm0PjR"
      }
    },
    {
      "cell_type": "markdown",
      "source": [
        "Librería a utilizar\n",
        "```\n",
        "import  tsfel \n",
        "```\n",
        "Archivo de configuración para la extraccion de características\n",
        "```\n",
        "cfg  =  tsfel.get_features_by_domain ()\n",
        "X  =  tsfel.time_series_features_extractor (cfg , xTrain, fs =300)\n",
        "```\n",
        "Guardar en CSV \n",
        "```\n",
        "X.to_csv(\"Caracteristicas.csv\")\n",
        "```\n"
      ],
      "metadata": {
        "id": "wmrh3yvs0XSI"
      }
    },
    {
      "cell_type": "markdown",
      "source": [
        "En este ejercicio utilizaremos la BD para reconocer las diferentes actividades de la vida diaria de [Human Activity Recognition Using Smartphones data set](https://archive.ics.uci.edu/ml/datasets/human+activity+recognition+using+smartphones)\n",
        "\n",
        "Este experimnto se llevó a cabo en un grupo de 30 vonluntarios, donde cada uno realizaba 6 actividades, Caminar, caminar escalas arriba, caminar escalas abajo, sentarse, estar de pie y acostado, todo eto se registraba en un celular (con acelerometro y giroscopio) ubicado en la cintura. \n",
        "\n",
        "Estas señales cuentan con un preprocesamiento en el cual se le aplicaron filtros de ruido y luego muestreadas suvizadas con un filtro de media movil. \n",
        "En particular la señal de aceleración del sensor, que tiene componentes de movimiento gravitacional y corporal, se separó utilizando un filtro de paso bajo Butterworth en la aceleración del cuerpo y la gravedad. Se supone que la fuerza gravitacional solo tiene componentes de baja frecuencia, por lo que se utilizó un filtro con una frecuencia de corte de 0,3 Hz. \n",
        "\n",
        "En el siguiente link pueden visualizar como se llevó a cabo el experimento: [Experimento](https://www.youtube.com/watch?v=XOEN9W05_4A)"
      ],
      "metadata": {
        "id": "BddkFc1YSG0G"
      }
    },
    {
      "cell_type": "code",
      "source": [
        "import warnings\n",
        "warnings.filterwarnings('ignore')\n",
        "!pip install tsfel >/dev/null 2>&1\n",
        "from sys import platform\n",
        "if platform == \"linux\" or platform == \"linux2\":\n",
        "    !wget http://archive.ics.uci.edu/ml/machine-learning-databases/00240/UCI%20HAR%20Dataset.zip >/dev/null 2>&1\n",
        "else:\n",
        "    !pip install wget >/dev/null 2>&1\n",
        "    import wget\n",
        "    wget.download('http://archive.ics.uci.edu/ml/machine-learning-databases/00240/UCI HAR Dataset.zip')"
      ],
      "metadata": {
        "id": "BnvzYBJU0WKy"
      },
      "execution_count": 1,
      "outputs": []
    },
    {
      "cell_type": "code",
      "source": [
        "# Import libraries\n",
        "import tsfel\n",
        "import glob\n",
        "import zipfile\n",
        "\n",
        "import numpy as np\n",
        "import pandas as pd\n",
        "import seaborn as sns\n",
        "\n",
        "from matplotlib import pyplot as plt\n",
        "from sklearn import preprocessing\n",
        "from sklearn.ensemble import RandomForestClassifier\n",
        "from sklearn.metrics import classification_report\n",
        "from sklearn.feature_selection import VarianceThreshold\n",
        "from sklearn.metrics import confusion_matrix, accuracy_score\n",
        "sns.set()\n",
        "\n",
        "# Unzip dataset\n",
        "zip_ref = zipfile.ZipFile(\"UCI HAR Dataset.zip\", 'r')\n",
        "zip_ref.extractall()\n",
        "zip_ref.close()"
      ],
      "metadata": {
        "id": "j8crMm6f0jNR"
      },
      "execution_count": 2,
      "outputs": []
    },
    {
      "cell_type": "markdown",
      "source": [
        "# Cargar Dataset\n"
      ],
      "metadata": {
        "id": "w4ByVD7VUScN"
      }
    },
    {
      "cell_type": "code",
      "source": [
        "x_train_sig = np.loadtxt('UCI HAR Dataset/train/Inertial Signals/total_acc_x_train.txt', dtype='float32')\n",
        "x_test_sig = np.loadtxt('UCI HAR Dataset/test/Inertial Signals/total_acc_x_test.txt', dtype='float32')\n",
        "y_test = np.loadtxt('UCI HAR Dataset/test/y_test.txt')\n",
        "y_train = np.loadtxt('UCI HAR Dataset/train/y_train.txt')\n",
        "activity_labels = np.array(pd.read_csv('UCI HAR Dataset/activity_labels.txt', header=None, delimiter=' '))[:,1]\n",
        "# Frecuencia de muestreo \n",
        "fs = 100"
      ],
      "metadata": {
        "id": "Ro-FY5O1UWCn"
      },
      "execution_count": 3,
      "outputs": []
    },
    {
      "cell_type": "code",
      "source": [
        "%matplotlib inline\n",
        "\n",
        "plt.figure()\n",
        "plt_size = 10\n",
        "plt.plot(np.concatenate(x_train_sig[0:plt_size],axis=0))\n",
        "plt.xlabel(\"time (s)\")\n",
        "plt.ylabel(\"Acceleration (m/s²)\")\n",
        "plt.title(\"Accelerometer Signal\")\n",
        "plt.legend('x axis')\n",
        "plt.show()"
      ],
      "metadata": {
        "colab": {
          "base_uri": "https://localhost:8080/",
          "height": 301
        },
        "id": "vze0SLzbUkhG",
        "outputId": "9af8cb5b-161f-4e9f-d53c-47e5300b89d8"
      },
      "execution_count": 4,
      "outputs": [
        {
          "output_type": "display_data",
          "data": {
            "text/plain": [
              "<Figure size 432x288 with 1 Axes>"
            ],
            "image/png": "[encoded data removed]"
          },
          "metadata": {
            "needs_background": "light"
          }
        }
      ]
    },
    {
      "cell_type": "markdown",
      "source": [
        "# Extracción de características\n",
        "\n",
        "Ahora vamos a extraer las características de las señales de test y train y las vamos a almacenar en un CSV. Esta parte **NO LA VAMOS A EJECUTAR VAMOS A UTILIZAR LOS ARCHIVOS FeatureTrain.csv y FeatureTest.csv**. \n",
        "\n",
        "\n",
        "La configuración para la extracción de características se pude generar a partir de los dominios \n",
        "\n",
        "\n",
        "```\n",
        "\n",
        "cfg_file = tsfel.get_features_by_domain()               # All features will be extracted.\n",
        "cgf_file = tsfel.get_features_by_domain(\"statistical\")  # All statistical domain features will be extracted\n",
        "cgf_file = tsfel.get_features_by_domain(\"temporal\")     # All temporal domain features will be extracted\n",
        "cgf_file = tsfel.get_features_by_domain(\"spectral\")     # All spectral domain features will be extracted\n",
        "```\n",
        "\n",
        "\n",
        "\n"
      ],
      "metadata": {
        "id": "T0BW3d0UAeJ8"
      }
    },
    {
      "cell_type": "code",
      "source": [
        "cfg_file =  tsfel.get_features_by_domain ()"
      ],
      "metadata": {
        "id": "g5pxfa2JY5qu"
      },
      "execution_count": null,
      "outputs": []
    },
    {
      "cell_type": "code",
      "source": [
        "# Extract excel info\n",
        "train  =  tsfel.time_series_features_extractor (cfg_file , x_train_sig, fs =fs)\n",
        "test  =  tsfel.time_series_features_extractor (cfg_file , x_test_sig, fs =fs)"
      ],
      "metadata": {
        "id": "KtSOVUeD0uPq",
        "colab": {
          "base_uri": "https://localhost:8080/",
          "height": 227
        },
        "outputId": "af69f506-ca29-47fc-8b34-f8ac5e0a7b32"
      },
      "execution_count": null,
      "outputs": [
        {
          "output_type": "stream",
          "name": "stdout",
          "text": [
            "*** Feature extraction started ***\n"
          ]
        },
        {
          "output_type": "display_data",
          "data": {
            "text/plain": [
              "<IPython.core.display.HTML object>"
            ],
            "text/html": [
              "\n",
              "              <p>\n",
              "                  Progress: 100% Complete\n",
              "              <p/>            \n",
              "              <progress\n",
              "                  value='7352'\n",
              "                  max='7352',\n",
              "                  style='width: 25%',\n",
              "              >\n",
              "                  7352\n",
              "              </progress>\n",
              "\n",
              "    "
            ]
          },
          "metadata": {}
        },
        {
          "output_type": "stream",
          "name": "stdout",
          "text": [
            "\n",
            "*** Feature extraction finished ***\n",
            "*** Feature extraction started ***\n"
          ]
        },
        {
          "output_type": "display_data",
          "data": {
            "text/plain": [
              "<IPython.core.display.HTML object>"
            ],
            "text/html": [
              "\n",
              "              <p>\n",
              "                  Progress: 100% Complete\n",
              "              <p/>            \n",
              "              <progress\n",
              "                  value='2947'\n",
              "                  max='2947',\n",
              "                  style='width: 25%',\n",
              "              >\n",
              "                  2947\n",
              "              </progress>\n",
              "\n",
              "    "
            ]
          },
          "metadata": {}
        },
        {
          "output_type": "stream",
          "name": "stdout",
          "text": [
            "\n",
            "*** Feature extraction finished ***\n"
          ]
        }
      ]
    },
    {
      "cell_type": "code",
      "source": [
        "train.to_csv('FeatureTrain.csv')\n",
        "test.to_csv('FeatureTest.csv')"
      ],
      "metadata": {
        "id": "RUnuiaC1abdG"
      },
      "execution_count": null,
      "outputs": []
    },
    {
      "cell_type": "code",
      "source": [
        "from google.colab import drive\n",
        "drive.mount('/content/drive/')"
      ],
      "metadata": {
        "colab": {
          "base_uri": "https://localhost:8080/"
        },
        "id": "IIrxAi2w_v-S",
        "outputId": "15b97b6b-44d8-4956-a050-dea1989826ce"
      },
      "execution_count": 6,
      "outputs": [
        {
          "output_type": "stream",
          "name": "stdout",
          "text": [
            "Mounted at /content/drive/\n"
          ]
        }
      ]
    },
    {
      "cell_type": "code",
      "source": [
        "train = pd.read_csv('/content/drive/MyDrive/Especializacion BigData EIA/Procesamiento_Señales/Clase_6/FeatureTrain.csv')\n",
        "test = pd.read_csv('/content/drive/MyDrive/Especializacion BigData EIA/Procesamiento_Señales/Clase_6/FeatureTest.csv')"
      ],
      "metadata": {
        "id": "ccD5QkfW_3Uf"
      },
      "execution_count": 7,
      "outputs": []
    },
    {
      "cell_type": "markdown",
      "source": [
        "# Selección de características\n",
        "\n",
        "Se debe tener en cuenta que las características que son similares posiblemente no nos daran información relevante que permita diferencias los diferentes tipos de señales, por lo tanto podemos eliminar aquellas características con correlaciones altas, también aquellas que no presenten altas variaciones y por ultimo es importante normalizar la información. "
      ],
      "metadata": {
        "id": "I0ieY1zCIlX1"
      }
    },
    {
      "cell_type": "code",
      "source": [
        "train.shape"
      ],
      "metadata": {
        "colab": {
          "base_uri": "https://localhost:8080/"
        },
        "id": "tt0M6s-Kdo8P",
        "outputId": "681a12b3-0fad-4463-e891-253d310a27b4"
      },
      "execution_count": 8,
      "outputs": [
        {
          "output_type": "execute_result",
          "data": {
            "text/plain": [
              "(7352, 200)"
            ]
          },
          "metadata": {},
          "execution_count": 8
        }
      ]
    },
    {
      "cell_type": "code",
      "source": [
        "test.shape"
      ],
      "metadata": {
        "colab": {
          "base_uri": "https://localhost:8080/"
        },
        "id": "73vTZUDjA4q-",
        "outputId": "263a019d-0f00-459d-8028-b69b42c809b9"
      },
      "execution_count": 9,
      "outputs": [
        {
          "output_type": "execute_result",
          "data": {
            "text/plain": [
              "(2947, 200)"
            ]
          },
          "metadata": {},
          "execution_count": 9
        }
      ]
    },
    {
      "cell_type": "code",
      "source": [
        "# Se eliminan las características con correlaciones altas\n",
        "corr_features = tsfel.correlated_features(train)\n",
        "train.drop(corr_features, axis=1, inplace=True)\n",
        "test.drop(corr_features, axis=1, inplace=True)"
      ],
      "metadata": {
        "id": "171uvZQcNgIf"
      },
      "execution_count": 10,
      "outputs": []
    },
    {
      "cell_type": "code",
      "source": [
        "corr_features"
      ],
      "metadata": {
        "colab": {
          "base_uri": "https://localhost:8080/"
        },
        "id": "iqm8OqOgB6zK",
        "outputId": "c592634f-ac15-4346-99b4-cc27a65b08fc"
      },
      "execution_count": 11,
      "outputs": [
        {
          "output_type": "execute_result",
          "data": {
            "text/plain": [
              "['0_Area under the curve',\n",
              " '0_Autocorrelation',\n",
              " '0_ECDF Percentile Count_1',\n",
              " '0_ECDF Percentile_1',\n",
              " '0_LPCC_12',\n",
              " '0_LPCC_2',\n",
              " '0_LPCC_3',\n",
              " '0_LPCC_7',\n",
              " '0_LPCC_8',\n",
              " '0_LPCC_9',\n",
              " '0_Mean',\n",
              " '0_Mean absolute deviation',\n",
              " '0_Mean absolute diff',\n",
              " '0_Median',\n",
              " '0_Median absolute deviation',\n",
              " '0_Median absolute diff',\n",
              " '0_Peak to peak distance',\n",
              " '0_Positive turning points',\n",
              " '0_Root mean square',\n",
              " '0_Spectral centroid',\n",
              " '0_Spectral roll-off',\n",
              " '0_Spectral skewness',\n",
              " '0_Spectral slope',\n",
              " '0_Spectral spread',\n",
              " '0_Standard deviation',\n",
              " '0_Sum absolute diff',\n",
              " '0_Total energy',\n",
              " '0_Variance',\n",
              " '0_Wavelet absolute mean_1',\n",
              " '0_Wavelet absolute mean_2',\n",
              " '0_Wavelet absolute mean_3',\n",
              " '0_Wavelet absolute mean_4',\n",
              " '0_Wavelet absolute mean_5',\n",
              " '0_Wavelet absolute mean_6',\n",
              " '0_Wavelet absolute mean_7',\n",
              " '0_Wavelet absolute mean_8',\n",
              " '0_Wavelet energy_1',\n",
              " '0_Wavelet energy_2',\n",
              " '0_Wavelet energy_3',\n",
              " '0_Wavelet energy_4',\n",
              " '0_Wavelet energy_5',\n",
              " '0_Wavelet energy_6',\n",
              " '0_Wavelet energy_7',\n",
              " '0_Wavelet energy_8',\n",
              " '0_Wavelet standard deviation_0',\n",
              " '0_Wavelet standard deviation_1',\n",
              " '0_Wavelet standard deviation_2',\n",
              " '0_Wavelet standard deviation_3',\n",
              " '0_Wavelet standard deviation_4',\n",
              " '0_Wavelet standard deviation_5',\n",
              " '0_Wavelet standard deviation_6',\n",
              " '0_Wavelet standard deviation_7',\n",
              " '0_Wavelet standard deviation_8',\n",
              " '0_Wavelet variance_0',\n",
              " '0_Wavelet variance_1',\n",
              " '0_Wavelet variance_2',\n",
              " '0_Wavelet variance_3',\n",
              " '0_Wavelet variance_4',\n",
              " '0_Wavelet variance_5',\n",
              " '0_Wavelet variance_6',\n",
              " '0_Wavelet variance_7',\n",
              " '0_Wavelet variance_8']"
            ]
          },
          "metadata": {},
          "execution_count": 11
        }
      ]
    },
    {
      "cell_type": "code",
      "source": [
        "# Se eliminan las características con varianzas bajas \n",
        "selector = VarianceThreshold()\n",
        "train = selector.fit_transform(train)\n",
        "test = selector.transform(test)\n"
      ],
      "metadata": {
        "id": "sxOlWRq8NhC2"
      },
      "execution_count": 12,
      "outputs": []
    },
    {
      "cell_type": "code",
      "source": [
        "# Se normalizan las características\n",
        "scaler = preprocessing.StandardScaler()\n",
        "nX_train = scaler.fit_transform(train)\n",
        "nX_test = scaler.transform(test)"
      ],
      "metadata": {
        "id": "oSiajZKwKiFV"
      },
      "execution_count": 13,
      "outputs": []
    },
    {
      "cell_type": "markdown",
      "source": [
        "Con las señales transformadas a matrices de características y después de seleccionar las más relevantes vamos a realizar una clasificación utilizando un `RandomForest`"
      ],
      "metadata": {
        "id": "i1smGuVgnBbX"
      }
    },
    {
      "cell_type": "code",
      "source": [
        "classifier = RandomForestClassifier()\n",
        "classifier.fit(nX_train, y_train.ravel())\n",
        "\n",
        "y_test_predict = classifier.predict(nX_test)\n",
        "\n",
        "accuracy = accuracy_score(y_test, y_test_predict) * 100\n",
        "print(classification_report(y_test, y_test_predict, target_names=activity_labels))\n",
        "print(\"Accuracy: \" + str(accuracy) + '%')"
      ],
      "metadata": {
        "colab": {
          "base_uri": "https://localhost:8080/"
        },
        "id": "VaRaBLVad1-4",
        "outputId": "f4f5b95d-cf91-4a2c-f350-8b3059d27158"
      },
      "execution_count": 14,
      "outputs": [
        {
          "output_type": "stream",
          "name": "stdout",
          "text": [
            "                    precision    recall  f1-score   support\n",
            "\n",
            "           WALKING       0.85      0.97      0.91       496\n",
            "  WALKING_UPSTAIRS       0.82      0.84      0.83       471\n",
            "WALKING_DOWNSTAIRS       0.92      0.75      0.82       420\n",
            "           SITTING       0.78      0.47      0.59       491\n",
            "          STANDING       0.65      0.88      0.74       532\n",
            "            LAYING       1.00      1.00      1.00       537\n",
            "\n",
            "          accuracy                           0.82      2947\n",
            "         macro avg       0.84      0.82      0.82      2947\n",
            "      weighted avg       0.83      0.82      0.82      2947\n",
            "\n",
            "Accuracy: 82.3549372242959%\n"
          ]
        }
      ]
    },
    {
      "cell_type": "code",
      "source": [
        "cm = confusion_matrix(y_test, y_test_predict)\n",
        "df_cm = pd.DataFrame(cm, index=[i for i in activity_labels], columns=[i for i in activity_labels])\n",
        "plt.figure()\n",
        "ax= sns.heatmap(df_cm,  cbar=False, cmap=\"BuGn\", annot=True, fmt=\"d\")\n",
        "plt.setp(ax.get_xticklabels(), rotation=45)\n",
        "\n",
        "plt.ylabel('True label', fontweight='bold', fontsize = 18)\n",
        "plt.xlabel('Predicted label', fontweight='bold', fontsize = 18)\n",
        "bottom, top = ax.get_ylim()\n",
        "plt.show()"
      ],
      "metadata": {
        "colab": {
          "base_uri": "https://localhost:8080/",
          "height": 380
        },
        "id": "mi7egbsJd6_f",
        "outputId": "9051a37a-05dd-42bd-efee-d7689d51de24"
      },
      "execution_count": 15,
      "outputs": [
        {
          "output_type": "display_data",
          "data": {
            "text/plain": [
              "<Figure size 432x288 with 1 Axes>"
            ],
            "image/png": "[encoded data removed]"
          },
          "metadata": {
            "needs_background": "light"
          }
        }
      ]
    },
    {
      "cell_type": "markdown",
      "source": [
        "# PCA\n",
        "\n",
        "Posterior a la adquisción de la matriz con las características se puede realizar un **Análisis de componentes principales (PCA)** para así reducir la dimensionalidad.\n",
        "\n",
        "Vamos a cargar nuevamente el dataset pero en este caso utilizando el dataset que se generó a partir de la extracción de características. "
      ],
      "metadata": {
        "id": "h1L4UiSG_Pf1"
      }
    },
    {
      "cell_type": "markdown",
      "source": [
        "Ahora vamos a seleccionar cuáles características son las más relevantes para el análisis. \n",
        "\n",
        "Extraemos una cantidad de componentes relevantes, los cuales se calculan a partir de  la descomposición de valores singulares de los datos. Es una operación matricial."
      ],
      "metadata": {
        "id": "1uEHCKl_CsPe"
      }
    },
    {
      "cell_type": "code",
      "source": [
        "from sklearn.decomposition import PCA\n",
        "import matplotlib.pyplot as plt"
      ],
      "metadata": {
        "id": "WcVAGXy1C6jX"
      },
      "execution_count": 16,
      "outputs": []
    },
    {
      "cell_type": "code",
      "source": [
        "train = pd.read_csv('/content/drive/MyDrive/Colab Notebooks/2022_II_signal_processing/Clase_6/FeatureTrain.csv')\n",
        "test  = pd.read_csv('/content/drive/MyDrive/Colab Notebooks/2022_II_signal_processing/Clase_6/FeatureTest.csv')"
      ],
      "metadata": {
        "id": "AMm6RfASaqDO"
      },
      "execution_count": null,
      "outputs": []
    },
    {
      "cell_type": "code",
      "source": [
        "pca = PCA(10)\n",
        "pca_train = pca.fit_transform(train)\n",
        "print('Variación por componentes principales: {}'.format(pca.explained_variance_ratio_))"
      ],
      "metadata": {
        "colab": {
          "base_uri": "https://localhost:8080/"
        },
        "id": "hwAw6gosDEQY",
        "outputId": "df009fc2-199b-4055-e2c1-55d6bd53b9af"
      },
      "execution_count": null,
      "outputs": [
        {
          "output_type": "stream",
          "name": "stdout",
          "text": [
            "Variación por componentes principales: [5.39526620e-01 4.52552917e-01 5.95382242e-03 2.64842164e-04\n",
            " 2.44424058e-04 2.15277140e-04 2.05665857e-04 1.62875729e-04\n",
            " 1.60246900e-04 1.40298313e-04]\n"
          ]
        }
      ]
    },
    {
      "cell_type": "code",
      "source": [
        "pca_train"
      ],
      "metadata": {
        "id": "iVdTkGBEEpDy",
        "outputId": "8cebab9f-c852-42d1-85db-76ba11bb392b",
        "colab": {
          "base_uri": "https://localhost:8080/"
        }
      },
      "execution_count": null,
      "outputs": [
        {
          "output_type": "execute_result",
          "data": {
            "text/plain": [
              "array([[-3587.1050243 ,   794.85122788,   448.0056487 , ...,\n",
              "          -46.52416409,   -19.75027038,     5.55767534],\n",
              "       [-3587.28988773,   788.64376757,   507.21385112, ...,\n",
              "          -43.77297001,   -17.20576264,     4.29908707],\n",
              "       [-3589.69293772,   776.29332596,   306.3581238 , ...,\n",
              "          -41.84906288,   -20.00515533,     5.64955273],\n",
              "       ...,\n",
              "       [ 3275.5685467 , -2171.45564287,  -153.79065354, ...,\n",
              "           16.01587449,    41.0853227 ,    70.13225272],\n",
              "       [ 3302.57511383, -2055.95253869,  -153.3162783 , ...,\n",
              "           37.94586248,    -7.59575496,   -28.1547797 ],\n",
              "       [ 3210.21414606, -2469.89713161,  -152.03426542, ...,\n",
              "           19.39279946,    48.41754695,    66.64285064]])"
            ]
          },
          "metadata": {},
          "execution_count": 18
        }
      ]
    },
    {
      "cell_type": "code",
      "source": [
        "pca = PCA(10)\n",
        "pca_test = pca.fit_transform(test)\n",
        "print('Variación por componentes principales: {}'.format(pca.explained_variance_ratio_))"
      ],
      "metadata": {
        "colab": {
          "base_uri": "https://localhost:8080/"
        },
        "id": "tdYgugKmfKW3",
        "outputId": "edbd5881-2926-48a4-ad79-d686f977be24"
      },
      "execution_count": null,
      "outputs": [
        {
          "output_type": "stream",
          "name": "stdout",
          "text": [
            "Variación por componentes principales: [8.27117972e-01 1.60186915e-01 9.14598992e-03 4.97982547e-04\n",
            " 4.41727701e-04 3.84584731e-04 3.68624692e-04 3.54408791e-04\n",
            " 2.77405849e-04 2.58338876e-04]\n"
          ]
        }
      ]
    },
    {
      "cell_type": "markdown",
      "source": [
        "# ⛳ Tú turno! \n",
        "\n",
        "- Mejora la clasificación anterior, utilizando otro modelo de ML.\n",
        "\n",
        "- Después selecciona la cantidad de componentes que consideres signicativos para la señal y según tus criterios contruye un modelo que permita clasificar las diferentes señales\n"
      ],
      "metadata": {
        "id": "XFsgu4lWEH7r"
      }
    }
  ]
}