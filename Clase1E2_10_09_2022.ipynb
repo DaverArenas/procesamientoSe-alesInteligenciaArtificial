{
  "nbformat": 4,
  "nbformat_minor": 0,
  "metadata": {
    "colab": {
      "provenance": [],
      "collapsed_sections": [],
      "include_colab_link": true
    },
    "kernelspec": {
      "name": "python3",
      "display_name": "Python 3"
    }
  },
  "cells": [
    {
      "cell_type": "markdown",
      "metadata": {
        "id": "view-in-github",
        "colab_type": "text"
      },
      "source": [
        "<a href=\"https://colab.research.google.com/github/DaverArenas/procesamientoSe-alesInteligenciaArtificial/blob/main/Clase1E2_10_09_2022.ipynb\" target=\"_parent\"><img src=\"https://colab.research.google.com/assets/colab-badge.svg\" alt=\"Open In Colab\"/></a>"
      ]
    },
    {
      "cell_type": "markdown",
      "metadata": {
        "id": "YeCAl-hpNyEy"
      },
      "source": [
        "# Introducción Porqué es necesario procesar las señales?\n",
        "\n",
        "## Descripción\n",
        "\n",
        "- Se cree que la enfermedad de Parkinson (EP) afecta al menos a 100 personas de cada 100.000.\n",
        "- Los síntomas cardinales de temblor, bradicinesia, inestabilidad postural y rigor resultan en discapacidad sustancial para pacientes con EP.\n",
        "- Durante el curso de la enfermedad, hasta el 50% de los pacientes presentarán síntomas refractario a la medicación y experimentará discinesias inducidas por medicamentos\n",
        "- La enfermedad de Parkinson (EP) está relacionada principalmente con la degeneración de la sustancia negra y, por lo tanto, insuficiencia de dopamina\n",
        "- La progresión de la enfermedad provoca una disminución de la eficiencia de la terapia con L-DOPA (fluctuación de los síntomas intermitentes) y los neurólogos a menudo deciden clasificar a los pacientes para la cirugía de estimulación cerebral profunda (DBS)\n",
        "- DBS implica la implantación quirúrgica de electrodos en estructuras profundas del cerebro para modular los circuitos cerebrales en un esfuerzo por restaurar la función fisiológica normal.\n",
        "- El riesgo de errores en la localización del objetivo quirúrgico para la estimulación eléctrica cerebral profunda (DBS) requiere el uso de algún tipo de monitorización neurofisiológica intraoperatoria para confirmar el destino correcto durante la cirugía.\n",
        "## Señales\n",
        "- Se adquirieron registros de microelectrodos intraoperatorios en pacientes con Parkinson, despiertos y sin medicación, sujetos a implantación cerebral profunda bajo electroestimulación. Cinco pacientes (4 hombres y 1 mujer) de entre 55 +/- 6 años participaron de forma voluntaria asumiendo el consentimiento previamente firmado\n",
        "- El tiempo de adquisición para cada registro fue de 2 segundos con una frecuencia de muestreo de 24 KHz (24.000 muestras por segundo). En total, la base de datos comprende 52 micrograbaciones, 13 para cada una de las estructuras subcorticales: Núcleo del tálamo (TAL), Zona Incerta (Zi), Núcleo subtalámico (STN) y Substantia Nigra (SNR).\n",
        "## Matriz de características \n",
        "- Como se mencionó anteriormente cuando presentamos la base de datos, cada registro se adquirió durante 2 segundos a una frecuencia de muestreo de 24 KHz, lo que lleva a que cada registro tenga 48,000 muestras.\n",
        "\n",
        "- Si consideramos una trayectoria de 13 registros para cada una de las estructuras subcorticales:\n",
        "Núcleo de tálamo (TAL), Zona Incerta (Zi), Núcleo subtalámico (STN) y Substantia Nigra (SNR), la trayectoria final está compuesta por 52 registros y tiene un total de 2.496.000 muestras\n",
        "\n",
        "- A continuación, la trayectoria final se divide en ventanas 4.992 muestras consecutivas y para cada una de estas ventanas se determinan las seis características principales, dando un total de 500 instancias (patrones) por característica. \n",
        "\n",
        "La descomposición descrita anteriormente se presenta en forma de matriz de la siguiente manera:\n"
      ]
    },
    {
      "cell_type": "code",
      "metadata": {
        "id": "rPCDfqp0WbqR",
        "colab": {
          "base_uri": "https://localhost:8080/",
          "height": 235
        },
        "outputId": "bfcecc67-4062-47d5-8490-e1ce9012099a"
      },
      "source": [
        "from IPython.display import Image\n",
        "Image(filename='/content/drive/MyDrive/Colab Notebooks/2022_II_signal_processing/Clase_1/Matrix.PNG', width=400)"
      ],
      "execution_count": null,
      "outputs": [
        {
          "output_type": "execute_result",
          "data": {
            "image/png": "[encoded data removed]",
            "text/plain": [
              "<IPython.core.display.Image object>"
            ]
          },
          "metadata": {
            "image/png": {
              "width": 400
            }
          },
          "execution_count": 2
        }
      ]
    },
    {
      "cell_type": "code",
      "metadata": {
        "id": "8ncgw_FyOaQQ"
      },
      "source": [
        "import pandas\n",
        "import numpy\n",
        "import matplotlib.pyplot as plt\n",
        "from sklearn import model_selection\n",
        "from sklearn.metrics import classification_report\n",
        "from sklearn.metrics import confusion_matrix\n",
        "from sklearn.metrics import accuracy_score\n",
        "from sklearn.linear_model import LogisticRegression\n",
        "from sklearn.neighbors import KNeighborsClassifier\n",
        "from sklearn.discriminant_analysis import LinearDiscriminantAnalysis\n",
        "from sklearn.naive_bayes import GaussianNB\n",
        "from sklearn.svm import SVC"
      ],
      "execution_count": 1,
      "outputs": []
    },
    {
      "cell_type": "code",
      "metadata": {
        "id": "yEVekycKOoSe",
        "colab": {
          "base_uri": "https://localhost:8080/"
        },
        "outputId": "e2037a00-6631-4e24-ab3d-a34da5d95ad9"
      },
      "source": [
        "from google.colab import drive\n",
        "drive.mount('/content/drive/')"
      ],
      "execution_count": 2,
      "outputs": [
        {
          "output_type": "stream",
          "name": "stdout",
          "text": [
            "Mounted at /content/drive/\n"
          ]
        }
      ]
    },
    {
      "cell_type": "code",
      "metadata": {
        "id": "Ck12ETQUOeVC",
        "colab": {
          "base_uri": "https://localhost:8080/"
        },
        "outputId": "af7f1c28-0898-4bde-d380-a0279b12ef64"
      },
      "source": [
        "readdata = pandas.read_csv('/content/drive/MyDrive/Especializacion BigData EIA/Procesamiento_Señales/BDParkinson_Prediction.csv')\n",
        "dataset = pandas.DataFrame(readdata, columns=['VAR1', 'VAR2', 'VAR3', 'VAR4', 'VAR5', 'VAR6', 'CLASS'])\n",
        "print(dataset.shape)"
      ],
      "execution_count": 3,
      "outputs": [
        {
          "output_type": "stream",
          "name": "stdout",
          "text": [
            "(500, 7)\n"
          ]
        }
      ]
    },
    {
      "cell_type": "code",
      "metadata": {
        "id": "sTq-QVxDO_KE",
        "colab": {
          "base_uri": "https://localhost:8080/",
          "height": 206
        },
        "outputId": "73551d58-d141-4f61-9958-628a0f694bd1"
      },
      "source": [
        "dataset.head()"
      ],
      "execution_count": 4,
      "outputs": [
        {
          "output_type": "execute_result",
          "data": {
            "text/plain": [
              "       VAR1      VAR2  VAR3      VAR4      VAR5      VAR6    CLASS\n",
              "0  0.624731  0.135424   0.0  0.675282  0.182203  0.962960  Class_1\n",
              "1  0.647223  0.136211   0.0  0.679511  0.195903  0.987387  Class_1\n",
              "2  0.706352  0.187593   0.0  0.632989  0.244884  0.991182  Class_1\n",
              "3  0.680291  0.192076   0.0  0.651786  0.233528  0.991857  Class_1\n",
              "4  0.660104  0.161131   0.0  0.677162  0.209531  0.991066  Class_1"
            ],
            "text/html": [
              "\n",
              "  <div id=\"df-0df0eed1-b103-44ee-9243-09a3c33e84c5\">\n",
              "    <div class=\"colab-df-container\">\n",
              "      <div>\n",
              "<style scoped>\n",
              "    .dataframe tbody tr th:only-of-type {\n",
              "        vertical-align: middle;\n",
              "    }\n",
              "\n",
              "    .dataframe tbody tr th {\n",
              "        vertical-align: top;\n",
              "    }\n",
              "\n",
              "    .dataframe thead th {\n",
              "        text-align: right;\n",
              "    }\n",
              "</style>\n",
              "<table border=\"1\" class=\"dataframe\">\n",
              "  <thead>\n",
              "    <tr style=\"text-align: right;\">\n",
              "      <th></th>\n",
              "      <th>VAR1</th>\n",
              "      <th>VAR2</th>\n",
              "      <th>VAR3</th>\n",
              "      <th>VAR4</th>\n",
              "      <th>VAR5</th>\n",
              "      <th>VAR6</th>\n",
              "      <th>CLASS</th>\n",
              "    </tr>\n",
              "  </thead>\n",
              "  <tbody>\n",
              "    <tr>\n",
              "      <th>0</th>\n",
              "      <td>0.624731</td>\n",
              "      <td>0.135424</td>\n",
              "      <td>0.0</td>\n",
              "      <td>0.675282</td>\n",
              "      <td>0.182203</td>\n",
              "      <td>0.962960</td>\n",
              "      <td>Class_1</td>\n",
              "    </tr>\n",
              "    <tr>\n",
              "      <th>1</th>\n",
              "      <td>0.647223</td>\n",
              "      <td>0.136211</td>\n",
              "      <td>0.0</td>\n",
              "      <td>0.679511</td>\n",
              "      <td>0.195903</td>\n",
              "      <td>0.987387</td>\n",
              "      <td>Class_1</td>\n",
              "    </tr>\n",
              "    <tr>\n",
              "      <th>2</th>\n",
              "      <td>0.706352</td>\n",
              "      <td>0.187593</td>\n",
              "      <td>0.0</td>\n",
              "      <td>0.632989</td>\n",
              "      <td>0.244884</td>\n",
              "      <td>0.991182</td>\n",
              "      <td>Class_1</td>\n",
              "    </tr>\n",
              "    <tr>\n",
              "      <th>3</th>\n",
              "      <td>0.680291</td>\n",
              "      <td>0.192076</td>\n",
              "      <td>0.0</td>\n",
              "      <td>0.651786</td>\n",
              "      <td>0.233528</td>\n",
              "      <td>0.991857</td>\n",
              "      <td>Class_1</td>\n",
              "    </tr>\n",
              "    <tr>\n",
              "      <th>4</th>\n",
              "      <td>0.660104</td>\n",
              "      <td>0.161131</td>\n",
              "      <td>0.0</td>\n",
              "      <td>0.677162</td>\n",
              "      <td>0.209531</td>\n",
              "      <td>0.991066</td>\n",
              "      <td>Class_1</td>\n",
              "    </tr>\n",
              "  </tbody>\n",
              "</table>\n",
              "</div>\n",
              "      <button class=\"colab-df-convert\" onclick=\"convertToInteractive('df-0df0eed1-b103-44ee-9243-09a3c33e84c5')\"\n",
              "              title=\"Convert this dataframe to an interactive table.\"\n",
              "              style=\"display:none;\">\n",
              "        \n",
              "  <svg xmlns=\"http://www.w3.org/2000/svg\" height=\"24px\"viewBox=\"0 0 24 24\"\n",
              "       width=\"24px\">\n",
              "    <path d=\"M0 0h24v24H0V0z\" fill=\"none\"/>\n",
              "    <path d=\"M18.56 5.44l.94 2.06.94-2.06 2.06-.94-2.06-.94-.94-2.06-.94 2.06-2.06.94zm-11 1L8.5 8.5l.94-2.06 2.06-.94-2.06-.94L8.5 2.5l-.94 2.06-2.06.94zm10 10l.94 2.06.94-2.06 2.06-.94-2.06-.94-.94-2.06-.94 2.06-2.06.94z\"/><path d=\"M17.41 7.96l-1.37-1.37c-.4-.4-.92-.59-1.43-.59-.52 0-1.04.2-1.43.59L10.3 9.45l-7.72 7.72c-.78.78-.78 2.05 0 2.83L4 21.41c.39.39.9.59 1.41.59.51 0 1.02-.2 1.41-.59l7.78-7.78 2.81-2.81c.8-.78.8-2.07 0-2.86zM5.41 20L4 18.59l7.72-7.72 1.47 1.35L5.41 20z\"/>\n",
              "  </svg>\n",
              "      </button>\n",
              "      \n",
              "  <style>\n",
              "    .colab-df-container {\n",
              "      display:flex;\n",
              "      flex-wrap:wrap;\n",
              "      gap: 12px;\n",
              "    }\n",
              "\n",
              "    .colab-df-convert {\n",
              "      background-color: #E8F0FE;\n",
              "      border: none;\n",
              "      border-radius: 50%;\n",
              "      cursor: pointer;\n",
              "      display: none;\n",
              "      fill: #1967D2;\n",
              "      height: 32px;\n",
              "      padding: 0 0 0 0;\n",
              "      width: 32px;\n",
              "    }\n",
              "\n",
              "    .colab-df-convert:hover {\n",
              "      background-color: #E2EBFA;\n",
              "      box-shadow: 0px 1px 2px rgba(60, 64, 67, 0.3), 0px 1px 3px 1px rgba(60, 64, 67, 0.15);\n",
              "      fill: #174EA6;\n",
              "    }\n",
              "\n",
              "    [theme=dark] .colab-df-convert {\n",
              "      background-color: #3B4455;\n",
              "      fill: #D2E3FC;\n",
              "    }\n",
              "\n",
              "    [theme=dark] .colab-df-convert:hover {\n",
              "      background-color: #434B5C;\n",
              "      box-shadow: 0px 1px 3px 1px rgba(0, 0, 0, 0.15);\n",
              "      filter: drop-shadow(0px 1px 2px rgba(0, 0, 0, 0.3));\n",
              "      fill: #FFFFFF;\n",
              "    }\n",
              "  </style>\n",
              "\n",
              "      <script>\n",
              "        const buttonEl =\n",
              "          document.querySelector('#df-0df0eed1-b103-44ee-9243-09a3c33e84c5 button.colab-df-convert');\n",
              "        buttonEl.style.display =\n",
              "          google.colab.kernel.accessAllowed ? 'block' : 'none';\n",
              "\n",
              "        async function convertToInteractive(key) {\n",
              "          const element = document.querySelector('#df-0df0eed1-b103-44ee-9243-09a3c33e84c5');\n",
              "          const dataTable =\n",
              "            await google.colab.kernel.invokeFunction('convertToInteractive',\n",
              "                                                     [key], {});\n",
              "          if (!dataTable) return;\n",
              "\n",
              "          const docLinkHtml = 'Like what you see? Visit the ' +\n",
              "            '<a target=\"_blank\" href=https://colab.research.google.com/notebooks/data_table.ipynb>data table notebook</a>'\n",
              "            + ' to learn more about interactive tables.';\n",
              "          element.innerHTML = '';\n",
              "          dataTable['output_type'] = 'display_data';\n",
              "          await google.colab.output.renderOutput(dataTable, element);\n",
              "          const docLink = document.createElement('div');\n",
              "          docLink.innerHTML = docLinkHtml;\n",
              "          element.appendChild(docLink);\n",
              "        }\n",
              "      </script>\n",
              "    </div>\n",
              "  </div>\n",
              "  "
            ]
          },
          "metadata": {},
          "execution_count": 4
        }
      ]
    },
    {
      "cell_type": "markdown",
      "metadata": {
        "id": "-FMWDL91PGJW"
      },
      "source": [
        "Resumen estadístico de las variables\n",
        "\n"
      ]
    },
    {
      "cell_type": "code",
      "metadata": {
        "id": "BUd8Wi_XPA_Y",
        "colab": {
          "base_uri": "https://localhost:8080/",
          "height": 300
        },
        "outputId": "8a63c184-0e13-4992-8e1b-b2bcda9a73dc"
      },
      "source": [
        "dataset.describe()"
      ],
      "execution_count": 5,
      "outputs": [
        {
          "output_type": "execute_result",
          "data": {
            "text/plain": [
              "             VAR1        VAR2        VAR3        VAR4        VAR5        VAR6\n",
              "count  500.000000  500.000000  500.000000  500.000000  500.000000  500.000000\n",
              "mean     0.735121    0.197308    0.467928    0.696034    0.282903    0.314853\n",
              "std      0.075174    0.068170    0.302631    0.144894    0.105843    0.391511\n",
              "min      0.613236    0.109302    0.000000    0.515038    0.140636    0.045782\n",
              "25%      0.671658    0.134198    0.274775    0.576128    0.216137    0.090241\n",
              "50%      0.716317    0.218196    0.527671    0.642387    0.268986    0.102930\n",
              "75%      0.805635    0.246461    0.585586    0.737429    0.341426    0.616969\n",
              "max      1.000000    1.000000    1.000000    1.000000    1.000000    1.000000"
            ],
            "text/html": [
              "\n",
              "  <div id=\"df-0342b64b-53f8-48cf-8f30-ee1c590b926e\">\n",
              "    <div class=\"colab-df-container\">\n",
              "      <div>\n",
              "<style scoped>\n",
              "    .dataframe tbody tr th:only-of-type {\n",
              "        vertical-align: middle;\n",
              "    }\n",
              "\n",
              "    .dataframe tbody tr th {\n",
              "        vertical-align: top;\n",
              "    }\n",
              "\n",
              "    .dataframe thead th {\n",
              "        text-align: right;\n",
              "    }\n",
              "</style>\n",
              "<table border=\"1\" class=\"dataframe\">\n",
              "  <thead>\n",
              "    <tr style=\"text-align: right;\">\n",
              "      <th></th>\n",
              "      <th>VAR1</th>\n",
              "      <th>VAR2</th>\n",
              "      <th>VAR3</th>\n",
              "      <th>VAR4</th>\n",
              "      <th>VAR5</th>\n",
              "      <th>VAR6</th>\n",
              "    </tr>\n",
              "  </thead>\n",
              "  <tbody>\n",
              "    <tr>\n",
              "      <th>count</th>\n",
              "      <td>500.000000</td>\n",
              "      <td>500.000000</td>\n",
              "      <td>500.000000</td>\n",
              "      <td>500.000000</td>\n",
              "      <td>500.000000</td>\n",
              "      <td>500.000000</td>\n",
              "    </tr>\n",
              "    <tr>\n",
              "      <th>mean</th>\n",
              "      <td>0.735121</td>\n",
              "      <td>0.197308</td>\n",
              "      <td>0.467928</td>\n",
              "      <td>0.696034</td>\n",
              "      <td>0.282903</td>\n",
              "      <td>0.314853</td>\n",
              "    </tr>\n",
              "    <tr>\n",
              "      <th>std</th>\n",
              "      <td>0.075174</td>\n",
              "      <td>0.068170</td>\n",
              "      <td>0.302631</td>\n",
              "      <td>0.144894</td>\n",
              "      <td>0.105843</td>\n",
              "      <td>0.391511</td>\n",
              "    </tr>\n",
              "    <tr>\n",
              "      <th>min</th>\n",
              "      <td>0.613236</td>\n",
              "      <td>0.109302</td>\n",
              "      <td>0.000000</td>\n",
              "      <td>0.515038</td>\n",
              "      <td>0.140636</td>\n",
              "      <td>0.045782</td>\n",
              "    </tr>\n",
              "    <tr>\n",
              "      <th>25%</th>\n",
              "      <td>0.671658</td>\n",
              "      <td>0.134198</td>\n",
              "      <td>0.274775</td>\n",
              "      <td>0.576128</td>\n",
              "      <td>0.216137</td>\n",
              "      <td>0.090241</td>\n",
              "    </tr>\n",
              "    <tr>\n",
              "      <th>50%</th>\n",
              "      <td>0.716317</td>\n",
              "      <td>0.218196</td>\n",
              "      <td>0.527671</td>\n",
              "      <td>0.642387</td>\n",
              "      <td>0.268986</td>\n",
              "      <td>0.102930</td>\n",
              "    </tr>\n",
              "    <tr>\n",
              "      <th>75%</th>\n",
              "      <td>0.805635</td>\n",
              "      <td>0.246461</td>\n",
              "      <td>0.585586</td>\n",
              "      <td>0.737429</td>\n",
              "      <td>0.341426</td>\n",
              "      <td>0.616969</td>\n",
              "    </tr>\n",
              "    <tr>\n",
              "      <th>max</th>\n",
              "      <td>1.000000</td>\n",
              "      <td>1.000000</td>\n",
              "      <td>1.000000</td>\n",
              "      <td>1.000000</td>\n",
              "      <td>1.000000</td>\n",
              "      <td>1.000000</td>\n",
              "    </tr>\n",
              "  </tbody>\n",
              "</table>\n",
              "</div>\n",
              "      <button class=\"colab-df-convert\" onclick=\"convertToInteractive('df-0342b64b-53f8-48cf-8f30-ee1c590b926e')\"\n",
              "              title=\"Convert this dataframe to an interactive table.\"\n",
              "              style=\"display:none;\">\n",
              "        \n",
              "  <svg xmlns=\"http://www.w3.org/2000/svg\" height=\"24px\"viewBox=\"0 0 24 24\"\n",
              "       width=\"24px\">\n",
              "    <path d=\"M0 0h24v24H0V0z\" fill=\"none\"/>\n",
              "    <path d=\"M18.56 5.44l.94 2.06.94-2.06 2.06-.94-2.06-.94-.94-2.06-.94 2.06-2.06.94zm-11 1L8.5 8.5l.94-2.06 2.06-.94-2.06-.94L8.5 2.5l-.94 2.06-2.06.94zm10 10l.94 2.06.94-2.06 2.06-.94-2.06-.94-.94-2.06-.94 2.06-2.06.94z\"/><path d=\"M17.41 7.96l-1.37-1.37c-.4-.4-.92-.59-1.43-.59-.52 0-1.04.2-1.43.59L10.3 9.45l-7.72 7.72c-.78.78-.78 2.05 0 2.83L4 21.41c.39.39.9.59 1.41.59.51 0 1.02-.2 1.41-.59l7.78-7.78 2.81-2.81c.8-.78.8-2.07 0-2.86zM5.41 20L4 18.59l7.72-7.72 1.47 1.35L5.41 20z\"/>\n",
              "  </svg>\n",
              "      </button>\n",
              "      \n",
              "  <style>\n",
              "    .colab-df-container {\n",
              "      display:flex;\n",
              "      flex-wrap:wrap;\n",
              "      gap: 12px;\n",
              "    }\n",
              "\n",
              "    .colab-df-convert {\n",
              "      background-color: #E8F0FE;\n",
              "      border: none;\n",
              "      border-radius: 50%;\n",
              "      cursor: pointer;\n",
              "      display: none;\n",
              "      fill: #1967D2;\n",
              "      height: 32px;\n",
              "      padding: 0 0 0 0;\n",
              "      width: 32px;\n",
              "    }\n",
              "\n",
              "    .colab-df-convert:hover {\n",
              "      background-color: #E2EBFA;\n",
              "      box-shadow: 0px 1px 2px rgba(60, 64, 67, 0.3), 0px 1px 3px 1px rgba(60, 64, 67, 0.15);\n",
              "      fill: #174EA6;\n",
              "    }\n",
              "\n",
              "    [theme=dark] .colab-df-convert {\n",
              "      background-color: #3B4455;\n",
              "      fill: #D2E3FC;\n",
              "    }\n",
              "\n",
              "    [theme=dark] .colab-df-convert:hover {\n",
              "      background-color: #434B5C;\n",
              "      box-shadow: 0px 1px 3px 1px rgba(0, 0, 0, 0.15);\n",
              "      filter: drop-shadow(0px 1px 2px rgba(0, 0, 0, 0.3));\n",
              "      fill: #FFFFFF;\n",
              "    }\n",
              "  </style>\n",
              "\n",
              "      <script>\n",
              "        const buttonEl =\n",
              "          document.querySelector('#df-0342b64b-53f8-48cf-8f30-ee1c590b926e button.colab-df-convert');\n",
              "        buttonEl.style.display =\n",
              "          google.colab.kernel.accessAllowed ? 'block' : 'none';\n",
              "\n",
              "        async function convertToInteractive(key) {\n",
              "          const element = document.querySelector('#df-0342b64b-53f8-48cf-8f30-ee1c590b926e');\n",
              "          const dataTable =\n",
              "            await google.colab.kernel.invokeFunction('convertToInteractive',\n",
              "                                                     [key], {});\n",
              "          if (!dataTable) return;\n",
              "\n",
              "          const docLinkHtml = 'Like what you see? Visit the ' +\n",
              "            '<a target=\"_blank\" href=https://colab.research.google.com/notebooks/data_table.ipynb>data table notebook</a>'\n",
              "            + ' to learn more about interactive tables.';\n",
              "          element.innerHTML = '';\n",
              "          dataTable['output_type'] = 'display_data';\n",
              "          await google.colab.output.renderOutput(dataTable, element);\n",
              "          const docLink = document.createElement('div');\n",
              "          docLink.innerHTML = docLinkHtml;\n",
              "          element.appendChild(docLink);\n",
              "        }\n",
              "      </script>\n",
              "    </div>\n",
              "  </div>\n",
              "  "
            ]
          },
          "metadata": {},
          "execution_count": 5
        }
      ]
    },
    {
      "cell_type": "markdown",
      "metadata": {
        "id": "iQb0LZ-UPJlN"
      },
      "source": [
        "Distribución de las clases\n"
      ]
    },
    {
      "cell_type": "code",
      "metadata": {
        "id": "bQJ1nPD3PDVb",
        "colab": {
          "base_uri": "https://localhost:8080/"
        },
        "outputId": "d86cae0f-3430-4d27-f3eb-8a2e7710a763"
      },
      "source": [
        "dataset.groupby('CLASS').size()"
      ],
      "execution_count": 6,
      "outputs": [
        {
          "output_type": "execute_result",
          "data": {
            "text/plain": [
              "CLASS\n",
              "Class2     125\n",
              "Class_1    125\n",
              "Class_3    125\n",
              "Class_4    125\n",
              "dtype: int64"
            ]
          },
          "metadata": {},
          "execution_count": 6
        }
      ]
    },
    {
      "cell_type": "markdown",
      "metadata": {
        "id": "YTgmvZOBPRK3"
      },
      "source": [
        "# Evaluación de algoritmos\n",
        "Ahora vamos a crear algunos modelos y vamos a estimar la precisión con los datos de entrenamiento.\n",
        "Para esto vamos a realizar el siguiente procedimiento:\n",
        "- Separar un conjunto de datos para realizar la validación. \n",
        "- Configurar el test de validación cruzada.\n",
        "- Seleccionar el mejor modelo. "
      ]
    },
    {
      "cell_type": "markdown",
      "metadata": {
        "id": "i9AN5jXaP6nc"
      },
      "source": [
        "Separación de la base de datos\n"
      ]
    },
    {
      "cell_type": "code",
      "metadata": {
        "id": "bx4Txdc5P9XV"
      },
      "source": [
        "array = dataset.values\n",
        "X = array[:,0:6]\n",
        "Y = array[:,6]\n",
        "validation_size = 0.20\n",
        "seed = 7\n",
        "X_train, X_validation, Y_train, Y_validation = model_selection.train_test_split(X, Y, test_size=validation_size, random_state=seed)"
      ],
      "execution_count": 7,
      "outputs": []
    },
    {
      "cell_type": "markdown",
      "metadata": {
        "id": "32Ylkb3NQAZ-"
      },
      "source": [
        "Ahora tenemos lo datos de entrenamiento \n",
        "\n",
        "```\n",
        "X_train, Y_train\n",
        "```\n",
        "Y los datos de validación \n",
        "\n",
        "```\n",
        "X_validation, Y_validation\n",
        "```\n",
        "\n",
        "Recordemos que vamos a utilizar una validación cruzada de 10 veces para estimar la precisión. Esto dividirá nuestro conjunto de datos en 10 partes, entrenará 9 y probará en 1 y se repetirá para todas las divisiones de prueba-entrenamientoa"
      ]
    },
    {
      "cell_type": "markdown",
      "metadata": {
        "id": "Riex4S9IQzrk"
      },
      "source": [
        "Opciones de prueba y métricas de evaluación \n"
      ]
    },
    {
      "cell_type": "code",
      "metadata": {
        "id": "vw9QQmvpQ5bP"
      },
      "source": [
        "scoring = 'accuracy'"
      ],
      "execution_count": 8,
      "outputs": []
    },
    {
      "cell_type": "markdown",
      "metadata": {
        "id": "WqVwt8JaQ4nT"
      },
      "source": [
        "Utilizaremos la métrica de precisión para evaluar los modelos. Esta es una proporción de la cantidad de instancias predichas correctamente dividida por la cantidad de instancias en el conjunto de datos multiplicado por 100 para dar un porcentaje (Ej. 99% de precisión).\n",
        "\n",
        "Usaremos la variable de puntuación cuando ejecutemos y evaluemos cada modelo. \n"
      ]
    },
    {
      "cell_type": "markdown",
      "metadata": {
        "id": "YTQOf6fTRU2b"
      },
      "source": [
        "### Construcción de modelos\n",
        "\n",
        "Como no sabemos que algoritmos serán buenos para este problema o que configuraciones se deben usar, se pueden hacer gráficas para ver que clases la separación de las clases. \n",
        "\n",
        "Se van a evaluar 5 modelos \n",
        "- Logistic Regression (LR)\n",
        "- Linear Discriminant Analysis (LDA)\n",
        "- K-Nearest Neighbors (KNN).\n",
        "- Gaussian Naive Bayes (NB).\n",
        "- Support Vector Machines (SVM).\n",
        "\n",
        "También te dejo el  [cheat sheet](https://scikit-learn.org/stable/tutorial/machine_learning_map/index.html)\n",
        " de scikit-learn como herramienta base para que selecciones los modelos a utilizar."
      ]
    },
    {
      "cell_type": "code",
      "metadata": {
        "id": "1bvarKpFR-ok"
      },
      "source": [
        "models = []\n",
        "models.append(('LR', LogisticRegression()))\n",
        "models.append(('LDA', LinearDiscriminantAnalysis()))\n",
        "models.append(('KNN', KNeighborsClassifier()))\n",
        "models.append(('NB', GaussianNB()))\n",
        "models.append(('SVM', SVC()))"
      ],
      "execution_count": 9,
      "outputs": []
    },
    {
      "cell_type": "markdown",
      "metadata": {
        "id": "OzrVMDzaSFL4"
      },
      "source": [
        "Evaluación de cada modelo"
      ]
    },
    {
      "cell_type": "code",
      "metadata": {
        "id": "jWKpuC0QSH-0",
        "colab": {
          "base_uri": "https://localhost:8080/"
        },
        "outputId": "674fa78b-58b8-4582-faaf-ed8ae6fa0506"
      },
      "source": [
        "import warnings\n",
        "warnings.filterwarnings(\"ignore\")\n",
        "\n",
        "results = []\n",
        "names = []\n",
        "for name, model in models:\n",
        "    kfold = model_selection.KFold(n_splits=10)\n",
        "    cv_results = model_selection.cross_val_score(model, X_train, Y_train, cv=kfold, scoring=scoring)\n",
        "    results.append(cv_results)\n",
        "    names.append(name)\n",
        "    msg = \"%s: %f (%f)\" % (name, cv_results.mean(), cv_results.std())\n",
        "    print(msg)"
      ],
      "execution_count": 10,
      "outputs": [
        {
          "output_type": "stream",
          "name": "stdout",
          "text": [
            "LR: 0.962500 (0.032113)\n",
            "LDA: 0.992500 (0.011456)\n",
            "KNN: 0.992500 (0.011456)\n",
            "NB: 0.975000 (0.022361)\n",
            "SVM: 0.975000 (0.019365)\n"
          ]
        }
      ]
    },
    {
      "cell_type": "markdown",
      "metadata": {
        "id": "F-J2Kx_OSLSo"
      },
      "source": [
        "Vamos a crear un gráfico de los resultados de la evaluación del modelo y comparar la dispersión y la precisión media de cada modelo. \n",
        "Existe una población de medidas de precisión para cada algoritmo porque cada algoritmo se evaluó 10 veces (validación cruzada)."
      ]
    },
    {
      "cell_type": "code",
      "metadata": {
        "id": "jMc6gEt162L9"
      },
      "source": [
        "import plotly.offline as pyo\n",
        "import plotly.graph_objs as go"
      ],
      "execution_count": 11,
      "outputs": []
    },
    {
      "cell_type": "code",
      "metadata": {
        "id": "meUiZ4iS7Sg3",
        "colab": {
          "base_uri": "https://localhost:8080/"
        },
        "outputId": "4ff8f500-8e01-494c-92f0-a0ad743850e7"
      },
      "source": [
        "results"
      ],
      "execution_count": 12,
      "outputs": [
        {
          "output_type": "execute_result",
          "data": {
            "text/plain": [
              "[array([0.975, 0.975, 1.   , 0.925, 0.975, 1.   , 0.925, 1.   , 0.925,\n",
              "        0.925]),\n",
              " array([1.   , 1.   , 0.975, 0.975, 1.   , 1.   , 1.   , 1.   , 1.   ,\n",
              "        0.975]),\n",
              " array([0.975, 1.   , 1.   , 1.   , 1.   , 1.   , 0.975, 1.   , 1.   ,\n",
              "        0.975]),\n",
              " array([0.975, 0.975, 1.   , 1.   , 1.   , 0.95 , 0.975, 0.975, 0.975,\n",
              "        0.925]),\n",
              " array([0.975, 0.975, 1.   , 0.975, 0.975, 1.   , 0.95 , 1.   , 0.95 ,\n",
              "        0.95 ])]"
            ]
          },
          "metadata": {},
          "execution_count": 12
        }
      ]
    },
    {
      "cell_type": "code",
      "metadata": {
        "id": "kAEgZsIw65CE",
        "colab": {
          "base_uri": "https://localhost:8080/",
          "height": 542
        },
        "outputId": "760d22e7-16b4-4eb2-85d4-c8c68ea7c23c"
      },
      "source": [
        "x0 = results[0]\n",
        "x1 = results[1]\n",
        "x2 = results[2]\n",
        "x3 = results[3]\n",
        "x4 = results[4]\n",
        "\n",
        "trace1 = go.Box(name=\"LR\",  x=x0)\n",
        "trace2 = go.Box(name=\"LDA\", x=x1)\n",
        "trace3 = go.Box(name=\"KNN\", x=x2)\n",
        "trace4 = go.Box(name=\"NB\",  x=x3)\n",
        "trace5 = go.Box(name=\"SVM\", x=x4)\n",
        "\n",
        "data = [trace1, trace2,trace3, trace4, trace5]\n",
        "\n",
        "layout = go.Layout(boxmode='group')\n",
        "fig = go.Figure(data=data, layout=layout)\n",
        "pyo.iplot(fig)"
      ],
      "execution_count": 13,
      "outputs": [
        {
          "output_type": "display_data",
          "data": {
            "text/html": [
              "<html>\n",
              "<head><meta charset=\"utf-8\" /></head>\n",
              "<body>\n",
              "    <div>            <script src=\"https://cdnjs.cloudflare.com/ajax/libs/mathjax/2.7.5/MathJax.js?config=TeX-AMS-MML_SVG\"></script><script type=\"text/javascript\">if (window.MathJax) {MathJax.Hub.Config({SVG: {font: \"STIX-Web\"}});}</script>                <script type=\"text/javascript\">window.PlotlyConfig = {MathJaxConfig: 'local'};</script>\n",
              "        <script src=\"https://cdn.plot.ly/plotly-2.8.3.min.js\"></script>                <div id=\"4e2ddef4-8e3e-4792-ac90-c52f54907fbe\" class=\"plotly-graph-div\" style=\"height:525px; width:100%;\"></div>            <script type=\"text/javascript\">                                    window.PLOTLYENV=window.PLOTLYENV || {};                                    if (document.getElementById(\"4e2ddef4-8e3e-4792-ac90-c52f54907fbe\")) {                    Plotly.newPlot(                        \"4e2ddef4-8e3e-4792-ac90-c52f54907fbe\",                        [{\"name\":\"LR\",\"x\":[0.975,0.975,1.0,0.925,0.975,1.0,0.925,1.0,0.925,0.925],\"type\":\"box\"},{\"name\":\"LDA\",\"x\":[1.0,1.0,0.975,0.975,1.0,1.0,1.0,1.0,1.0,0.975],\"type\":\"box\"},{\"name\":\"KNN\",\"x\":[0.975,1.0,1.0,1.0,1.0,1.0,0.975,1.0,1.0,0.975],\"type\":\"box\"},{\"name\":\"NB\",\"x\":[0.975,0.975,1.0,1.0,1.0,0.95,0.975,0.975,0.975,0.925],\"type\":\"box\"},{\"name\":\"SVM\",\"x\":[0.975,0.975,1.0,0.975,0.975,1.0,0.95,1.0,0.95,0.95],\"type\":\"box\"}],                        {\"boxmode\":\"group\",\"template\":{\"data\":{\"barpolar\":[{\"marker\":{\"line\":{\"color\":\"#E5ECF6\",\"width\":0.5},\"pattern\":{\"fillmode\":\"overlay\",\"size\":10,\"solidity\":0.2}},\"type\":\"barpolar\"}],\"bar\":[{\"error_x\":{\"color\":\"#2a3f5f\"},\"error_y\":{\"color\":\"#2a3f5f\"},\"marker\":{\"line\":{\"color\":\"#E5ECF6\",\"width\":0.5},\"pattern\":{\"fillmode\":\"overlay\",\"size\":10,\"solidity\":0.2}},\"type\":\"bar\"}],\"carpet\":[{\"aaxis\":{\"endlinecolor\":\"#2a3f5f\",\"gridcolor\":\"white\",\"linecolor\":\"white\",\"minorgridcolor\":\"white\",\"startlinecolor\":\"#2a3f5f\"},\"baxis\":{\"endlinecolor\":\"#2a3f5f\",\"gridcolor\":\"white\",\"linecolor\":\"white\",\"minorgridcolor\":\"white\",\"startlinecolor\":\"#2a3f5f\"},\"type\":\"carpet\"}],\"choropleth\":[{\"colorbar\":{\"outlinewidth\":0,\"ticks\":\"\"},\"type\":\"choropleth\"}],\"contourcarpet\":[{\"colorbar\":{\"outlinewidth\":0,\"ticks\":\"\"},\"type\":\"contourcarpet\"}],\"contour\":[{\"colorbar\":{\"outlinewidth\":0,\"ticks\":\"\"},\"colorscale\":[[0.0,\"#0d0887\"],[0.1111111111111111,\"#46039f\"],[0.2222222222222222,\"#7201a8\"],[0.3333333333333333,\"#9c179e\"],[0.4444444444444444,\"#bd3786\"],[0.5555555555555556,\"#d8576b\"],[0.6666666666666666,\"#ed7953\"],[0.7777777777777778,\"#fb9f3a\"],[0.8888888888888888,\"#fdca26\"],[1.0,\"#f0f921\"]],\"type\":\"contour\"}],\"heatmapgl\":[{\"colorbar\":{\"outlinewidth\":0,\"ticks\":\"\"},\"colorscale\":[[0.0,\"#0d0887\"],[0.1111111111111111,\"#46039f\"],[0.2222222222222222,\"#7201a8\"],[0.3333333333333333,\"#9c179e\"],[0.4444444444444444,\"#bd3786\"],[0.5555555555555556,\"#d8576b\"],[0.6666666666666666,\"#ed7953\"],[0.7777777777777778,\"#fb9f3a\"],[0.8888888888888888,\"#fdca26\"],[1.0,\"#f0f921\"]],\"type\":\"heatmapgl\"}],\"heatmap\":[{\"colorbar\":{\"outlinewidth\":0,\"ticks\":\"\"},\"colorscale\":[[0.0,\"#0d0887\"],[0.1111111111111111,\"#46039f\"],[0.2222222222222222,\"#7201a8\"],[0.3333333333333333,\"#9c179e\"],[0.4444444444444444,\"#bd3786\"],[0.5555555555555556,\"#d8576b\"],[0.6666666666666666,\"#ed7953\"],[0.7777777777777778,\"#fb9f3a\"],[0.8888888888888888,\"#fdca26\"],[1.0,\"#f0f921\"]],\"type\":\"heatmap\"}],\"histogram2dcontour\":[{\"colorbar\":{\"outlinewidth\":0,\"ticks\":\"\"},\"colorscale\":[[0.0,\"#0d0887\"],[0.1111111111111111,\"#46039f\"],[0.2222222222222222,\"#7201a8\"],[0.3333333333333333,\"#9c179e\"],[0.4444444444444444,\"#bd3786\"],[0.5555555555555556,\"#d8576b\"],[0.6666666666666666,\"#ed7953\"],[0.7777777777777778,\"#fb9f3a\"],[0.8888888888888888,\"#fdca26\"],[1.0,\"#f0f921\"]],\"type\":\"histogram2dcontour\"}],\"histogram2d\":[{\"colorbar\":{\"outlinewidth\":0,\"ticks\":\"\"},\"colorscale\":[[0.0,\"#0d0887\"],[0.1111111111111111,\"#46039f\"],[0.2222222222222222,\"#7201a8\"],[0.3333333333333333,\"#9c179e\"],[0.4444444444444444,\"#bd3786\"],[0.5555555555555556,\"#d8576b\"],[0.6666666666666666,\"#ed7953\"],[0.7777777777777778,\"#fb9f3a\"],[0.8888888888888888,\"#fdca26\"],[1.0,\"#f0f921\"]],\"type\":\"histogram2d\"}],\"histogram\":[{\"marker\":{\"pattern\":{\"fillmode\":\"overlay\",\"size\":10,\"solidity\":0.2}},\"type\":\"histogram\"}],\"mesh3d\":[{\"colorbar\":{\"outlinewidth\":0,\"ticks\":\"\"},\"type\":\"mesh3d\"}],\"parcoords\":[{\"line\":{\"colorbar\":{\"outlinewidth\":0,\"ticks\":\"\"}},\"type\":\"parcoords\"}],\"pie\":[{\"automargin\":true,\"type\":\"pie\"}],\"scatter3d\":[{\"line\":{\"colorbar\":{\"outlinewidth\":0,\"ticks\":\"\"}},\"marker\":{\"colorbar\":{\"outlinewidth\":0,\"ticks\":\"\"}},\"type\":\"scatter3d\"}],\"scattercarpet\":[{\"marker\":{\"colorbar\":{\"outlinewidth\":0,\"ticks\":\"\"}},\"type\":\"scattercarpet\"}],\"scattergeo\":[{\"marker\":{\"colorbar\":{\"outlinewidth\":0,\"ticks\":\"\"}},\"type\":\"scattergeo\"}],\"scattergl\":[{\"marker\":{\"colorbar\":{\"outlinewidth\":0,\"ticks\":\"\"}},\"type\":\"scattergl\"}],\"scattermapbox\":[{\"marker\":{\"colorbar\":{\"outlinewidth\":0,\"ticks\":\"\"}},\"type\":\"scattermapbox\"}],\"scatterpolargl\":[{\"marker\":{\"colorbar\":{\"outlinewidth\":0,\"ticks\":\"\"}},\"type\":\"scatterpolargl\"}],\"scatterpolar\":[{\"marker\":{\"colorbar\":{\"outlinewidth\":0,\"ticks\":\"\"}},\"type\":\"scatterpolar\"}],\"scatter\":[{\"marker\":{\"colorbar\":{\"outlinewidth\":0,\"ticks\":\"\"}},\"type\":\"scatter\"}],\"scatterternary\":[{\"marker\":{\"colorbar\":{\"outlinewidth\":0,\"ticks\":\"\"}},\"type\":\"scatterternary\"}],\"surface\":[{\"colorbar\":{\"outlinewidth\":0,\"ticks\":\"\"},\"colorscale\":[[0.0,\"#0d0887\"],[0.1111111111111111,\"#46039f\"],[0.2222222222222222,\"#7201a8\"],[0.3333333333333333,\"#9c179e\"],[0.4444444444444444,\"#bd3786\"],[0.5555555555555556,\"#d8576b\"],[0.6666666666666666,\"#ed7953\"],[0.7777777777777778,\"#fb9f3a\"],[0.8888888888888888,\"#fdca26\"],[1.0,\"#f0f921\"]],\"type\":\"surface\"}],\"table\":[{\"cells\":{\"fill\":{\"color\":\"#EBF0F8\"},\"line\":{\"color\":\"white\"}},\"header\":{\"fill\":{\"color\":\"#C8D4E3\"},\"line\":{\"color\":\"white\"}},\"type\":\"table\"}]},\"layout\":{\"annotationdefaults\":{\"arrowcolor\":\"#2a3f5f\",\"arrowhead\":0,\"arrowwidth\":1},\"autotypenumbers\":\"strict\",\"coloraxis\":{\"colorbar\":{\"outlinewidth\":0,\"ticks\":\"\"}},\"colorscale\":{\"diverging\":[[0,\"#8e0152\"],[0.1,\"#c51b7d\"],[0.2,\"#de77ae\"],[0.3,\"#f1b6da\"],[0.4,\"#fde0ef\"],[0.5,\"#f7f7f7\"],[0.6,\"#e6f5d0\"],[0.7,\"#b8e186\"],[0.8,\"#7fbc41\"],[0.9,\"#4d9221\"],[1,\"#276419\"]],\"sequential\":[[0.0,\"#0d0887\"],[0.1111111111111111,\"#46039f\"],[0.2222222222222222,\"#7201a8\"],[0.3333333333333333,\"#9c179e\"],[0.4444444444444444,\"#bd3786\"],[0.5555555555555556,\"#d8576b\"],[0.6666666666666666,\"#ed7953\"],[0.7777777777777778,\"#fb9f3a\"],[0.8888888888888888,\"#fdca26\"],[1.0,\"#f0f921\"]],\"sequentialminus\":[[0.0,\"#0d0887\"],[0.1111111111111111,\"#46039f\"],[0.2222222222222222,\"#7201a8\"],[0.3333333333333333,\"#9c179e\"],[0.4444444444444444,\"#bd3786\"],[0.5555555555555556,\"#d8576b\"],[0.6666666666666666,\"#ed7953\"],[0.7777777777777778,\"#fb9f3a\"],[0.8888888888888888,\"#fdca26\"],[1.0,\"#f0f921\"]]},\"colorway\":[\"#636efa\",\"#EF553B\",\"#00cc96\",\"#ab63fa\",\"#FFA15A\",\"#19d3f3\",\"#FF6692\",\"#B6E880\",\"#FF97FF\",\"#FECB52\"],\"font\":{\"color\":\"#2a3f5f\"},\"geo\":{\"bgcolor\":\"white\",\"lakecolor\":\"white\",\"landcolor\":\"#E5ECF6\",\"showlakes\":true,\"showland\":true,\"subunitcolor\":\"white\"},\"hoverlabel\":{\"align\":\"left\"},\"hovermode\":\"closest\",\"mapbox\":{\"style\":\"light\"},\"paper_bgcolor\":\"white\",\"plot_bgcolor\":\"#E5ECF6\",\"polar\":{\"angularaxis\":{\"gridcolor\":\"white\",\"linecolor\":\"white\",\"ticks\":\"\"},\"bgcolor\":\"#E5ECF6\",\"radialaxis\":{\"gridcolor\":\"white\",\"linecolor\":\"white\",\"ticks\":\"\"}},\"scene\":{\"xaxis\":{\"backgroundcolor\":\"#E5ECF6\",\"gridcolor\":\"white\",\"gridwidth\":2,\"linecolor\":\"white\",\"showbackground\":true,\"ticks\":\"\",\"zerolinecolor\":\"white\"},\"yaxis\":{\"backgroundcolor\":\"#E5ECF6\",\"gridcolor\":\"white\",\"gridwidth\":2,\"linecolor\":\"white\",\"showbackground\":true,\"ticks\":\"\",\"zerolinecolor\":\"white\"},\"zaxis\":{\"backgroundcolor\":\"#E5ECF6\",\"gridcolor\":\"white\",\"gridwidth\":2,\"linecolor\":\"white\",\"showbackground\":true,\"ticks\":\"\",\"zerolinecolor\":\"white\"}},\"shapedefaults\":{\"line\":{\"color\":\"#2a3f5f\"}},\"ternary\":{\"aaxis\":{\"gridcolor\":\"white\",\"linecolor\":\"white\",\"ticks\":\"\"},\"baxis\":{\"gridcolor\":\"white\",\"linecolor\":\"white\",\"ticks\":\"\"},\"bgcolor\":\"#E5ECF6\",\"caxis\":{\"gridcolor\":\"white\",\"linecolor\":\"white\",\"ticks\":\"\"}},\"title\":{\"x\":0.05},\"xaxis\":{\"automargin\":true,\"gridcolor\":\"white\",\"linecolor\":\"white\",\"ticks\":\"\",\"title\":{\"standoff\":15},\"zerolinecolor\":\"white\",\"zerolinewidth\":2},\"yaxis\":{\"automargin\":true,\"gridcolor\":\"white\",\"linecolor\":\"white\",\"ticks\":\"\",\"title\":{\"standoff\":15},\"zerolinecolor\":\"white\",\"zerolinewidth\":2}}}},                        {\"responsive\": true}                    ).then(function(){\n",
              "                            \n",
              "var gd = document.getElementById('4e2ddef4-8e3e-4792-ac90-c52f54907fbe');\n",
              "var x = new MutationObserver(function (mutations, observer) {{\n",
              "        var display = window.getComputedStyle(gd).display;\n",
              "        if (!display || display === 'none') {{\n",
              "            console.log([gd, 'removed!']);\n",
              "            Plotly.purge(gd);\n",
              "            observer.disconnect();\n",
              "        }}\n",
              "}});\n",
              "\n",
              "// Listen for the removal of the full notebook cells\n",
              "var notebookContainer = gd.closest('#notebook-container');\n",
              "if (notebookContainer) {{\n",
              "    x.observe(notebookContainer, {childList: true});\n",
              "}}\n",
              "\n",
              "// Listen for the clearing of the current output cell\n",
              "var outputEl = gd.closest('.output');\n",
              "if (outputEl) {{\n",
              "    x.observe(outputEl, {childList: true});\n",
              "}}\n",
              "\n",
              "                        })                };                            </script>        </div>\n",
              "</body>\n",
              "</html>"
            ]
          },
          "metadata": {}
        }
      ]
    },
    {
      "cell_type": "markdown",
      "metadata": {
        "id": "tkVPgCmUSkap"
      },
      "source": [
        "## Predicciones \n",
        "\n",
        "Los algoritmos KNN y LDA fueron los modelos más preciso. Ahora queremos tener una idea de la precisión del modelo en nuestro conjunto de validación.\n",
        "\n",
        "Esto nos dará una verificación final independiente de la precisión del mejor modelo. Es valioso mantener un conjunto de validación por si acaso cometiste un desliz durante el entrenamiento, como un ajuste excesivo al conjunto de entrenamiento o una fuga de datos. Ambos darán lugar a un resultado demasiado optimista.\n",
        "\n",
        "Podemos ejecutar el modelo KNN directamente en el conjunto de validación y resumir los resultados como una puntuación de precisión final, una matriz de confusión y un informe de clasificación.\n"
      ]
    },
    {
      "cell_type": "code",
      "metadata": {
        "id": "hYDJ7zGbS4mG",
        "colab": {
          "base_uri": "https://localhost:8080/"
        },
        "outputId": "47678531-c77d-4506-b8ca-363499df729c"
      },
      "source": [
        "KNN = KNeighborsClassifier()\n",
        "KNN.fit(X_train, Y_train)\n",
        "predictions = KNN.predict(X_validation)\n",
        "print(\"Exactitud: \", accuracy_score(Y_validation, predictions))\n",
        "print(confusion_matrix(Y_validation, predictions))\n",
        "print(classification_report(Y_validation, predictions))"
      ],
      "execution_count": 14,
      "outputs": [
        {
          "output_type": "stream",
          "name": "stdout",
          "text": [
            "Exactitud:  1.0\n",
            "[[26  0  0  0]\n",
            " [ 0 22  0  0]\n",
            " [ 0  0 22  0]\n",
            " [ 0  0  0 30]]\n",
            "              precision    recall  f1-score   support\n",
            "\n",
            "      Class2       1.00      1.00      1.00        26\n",
            "     Class_1       1.00      1.00      1.00        22\n",
            "     Class_3       1.00      1.00      1.00        22\n",
            "     Class_4       1.00      1.00      1.00        30\n",
            "\n",
            "    accuracy                           1.00       100\n",
            "   macro avg       1.00      1.00      1.00       100\n",
            "weighted avg       1.00      1.00      1.00       100\n",
            "\n"
          ]
        }
      ]
    },
    {
      "cell_type": "markdown",
      "metadata": {
        "id": "CYJSlFiaS4IR"
      },
      "source": [
        "Podemos ver que la precisión es 1,00 o 100%. \n",
        "El informe de clasificación proporciona un desglose de cada clase por precisión, recall, puntaje f1 y soporte, mostrando excelentes resultados."
      ]
    },
    {
      "cell_type": "code",
      "metadata": {
        "id": "Gf-6BhCMTY-d",
        "colab": {
          "base_uri": "https://localhost:8080/"
        },
        "outputId": "bcd2a138-a422-4398-a3f8-4dd49b4079cf"
      },
      "source": [
        "#Regression logistica\n",
        "LR = LogisticRegression()\n",
        "LR.fit(X_train, Y_train)\n",
        "predictions = LR.predict(X_validation)\n",
        "print(accuracy_score(Y_validation, predictions))\n",
        "print(confusion_matrix(Y_validation, predictions))\n",
        "print(classification_report(Y_validation, predictions))"
      ],
      "execution_count": null,
      "outputs": [
        {
          "output_type": "stream",
          "name": "stdout",
          "text": [
            "0.92\n",
            "[[22  0  4  0]\n",
            " [ 0 22  0  0]\n",
            " [ 0  0 22  0]\n",
            " [ 0  0  4 26]]\n",
            "              precision    recall  f1-score   support\n",
            "\n",
            "      Class2       1.00      0.85      0.92        26\n",
            "     Class_1       1.00      1.00      1.00        22\n",
            "     Class_3       0.73      1.00      0.85        22\n",
            "     Class_4       1.00      0.87      0.93        30\n",
            "\n",
            "    accuracy                           0.92       100\n",
            "   macro avg       0.93      0.93      0.92       100\n",
            "weighted avg       0.94      0.92      0.92       100\n",
            "\n"
          ]
        }
      ]
    },
    {
      "cell_type": "code",
      "metadata": {
        "id": "jiAGviQ7Ta0g",
        "colab": {
          "base_uri": "https://localhost:8080/"
        },
        "outputId": "9ffa78ed-30eb-4d81-ed8d-300649c80069"
      },
      "source": [
        "#LinearDiscriminantAnalysis\n",
        "LDA = LinearDiscriminantAnalysis()\n",
        "LDA.fit(X_train, Y_train)\n",
        "predictions = LDA.predict(X_validation)\n",
        "print(accuracy_score(Y_validation, predictions))\n",
        "print(confusion_matrix(Y_validation, predictions))\n",
        "print(classification_report(Y_validation, predictions))"
      ],
      "execution_count": 15,
      "outputs": [
        {
          "output_type": "stream",
          "name": "stdout",
          "text": [
            "1.0\n",
            "[[26  0  0  0]\n",
            " [ 0 22  0  0]\n",
            " [ 0  0 22  0]\n",
            " [ 0  0  0 30]]\n",
            "              precision    recall  f1-score   support\n",
            "\n",
            "      Class2       1.00      1.00      1.00        26\n",
            "     Class_1       1.00      1.00      1.00        22\n",
            "     Class_3       1.00      1.00      1.00        22\n",
            "     Class_4       1.00      1.00      1.00        30\n",
            "\n",
            "    accuracy                           1.00       100\n",
            "   macro avg       1.00      1.00      1.00       100\n",
            "weighted avg       1.00      1.00      1.00       100\n",
            "\n"
          ]
        }
      ]
    },
    {
      "cell_type": "code",
      "metadata": {
        "id": "khjB1qMjTcjV",
        "colab": {
          "base_uri": "https://localhost:8080/"
        },
        "outputId": "82c2cfbb-2139-4e2e-f1d4-023dc36d312c"
      },
      "source": [
        "#GaussianNB\n",
        "NB = GaussianNB()\n",
        "NB.fit(X_train, Y_train)\n",
        "predictions = NB.predict(X_validation)\n",
        "print(accuracy_score(Y_validation, predictions))\n",
        "print(confusion_matrix(Y_validation, predictions))\n",
        "print(classification_report(Y_validation, predictions))"
      ],
      "execution_count": 16,
      "outputs": [
        {
          "output_type": "stream",
          "name": "stdout",
          "text": [
            "0.98\n",
            "[[26  0  0  0]\n",
            " [ 0 22  0  0]\n",
            " [ 0  0 21  1]\n",
            " [ 0  0  1 29]]\n",
            "              precision    recall  f1-score   support\n",
            "\n",
            "      Class2       1.00      1.00      1.00        26\n",
            "     Class_1       1.00      1.00      1.00        22\n",
            "     Class_3       0.95      0.95      0.95        22\n",
            "     Class_4       0.97      0.97      0.97        30\n",
            "\n",
            "    accuracy                           0.98       100\n",
            "   macro avg       0.98      0.98      0.98       100\n",
            "weighted avg       0.98      0.98      0.98       100\n",
            "\n"
          ]
        }
      ]
    },
    {
      "cell_type": "code",
      "metadata": {
        "id": "6zecDJf5TeKJ",
        "colab": {
          "base_uri": "https://localhost:8080/"
        },
        "outputId": "5b1b4ef1-935a-416b-d1b9-37cdc36e99c0"
      },
      "source": [
        "#SVM\n",
        "SVM = SVC()\n",
        "SVM.fit(X_train, Y_train)\n",
        "predictions = SVM.predict(X_validation)\n",
        "print(accuracy_score(Y_validation, predictions))\n",
        "print(confusion_matrix(Y_validation, predictions))\n",
        "print(classification_report(Y_validation, predictions))"
      ],
      "execution_count": 17,
      "outputs": [
        {
          "output_type": "stream",
          "name": "stdout",
          "text": [
            "0.96\n",
            "[[26  0  0  0]\n",
            " [ 0 22  0  0]\n",
            " [ 0  0 22  0]\n",
            " [ 0  0  4 26]]\n",
            "              precision    recall  f1-score   support\n",
            "\n",
            "      Class2       1.00      1.00      1.00        26\n",
            "     Class_1       1.00      1.00      1.00        22\n",
            "     Class_3       0.85      1.00      0.92        22\n",
            "     Class_4       1.00      0.87      0.93        30\n",
            "\n",
            "    accuracy                           0.96       100\n",
            "   macro avg       0.96      0.97      0.96       100\n",
            "weighted avg       0.97      0.96      0.96       100\n",
            "\n"
          ]
        }
      ]
    }
  ]
}